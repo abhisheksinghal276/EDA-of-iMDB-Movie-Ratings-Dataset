{
 "cells": [
  {
   "cell_type": "markdown",
   "id": "82f9974e",
   "metadata": {},
   "source": [
    "# Introduction to the dataset"
   ]
  },
  {
   "cell_type": "markdown",
   "id": "13b813ac",
   "metadata": {},
   "source": [
    "This dataset consists of the top iMDB rated movies along with their details. The details are shown by using attributes as below:\n",
    "1. Name of the Movie\n",
    "2. Original Language\n",
    "3. Overview\n",
    "4. Vote Count\n",
    "5. Vote Average"
   ]
  },
  {
   "cell_type": "code",
   "execution_count": 1,
   "id": "b4410c1d",
   "metadata": {},
   "outputs": [],
   "source": [
    "# Importing Libraries\n",
    "import numpy as np\n",
    "import pandas as pd\n",
    "import matplotlib.pyplot as plt\n",
    "import seaborn as sns\n",
    "%matplotlib inline"
   ]
  },
  {
   "cell_type": "code",
   "execution_count": 2,
   "id": "886a3b69",
   "metadata": {},
   "outputs": [],
   "source": [
    "# Loading the dataset\n",
    "data = pd.read_csv('TMDb_updated.CSV')"
   ]
  },
  {
   "cell_type": "code",
   "execution_count": 3,
   "id": "a20d6afc",
   "metadata": {},
   "outputs": [
    {
     "data": {
      "text/html": [
       "<div>\n",
       "<style scoped>\n",
       "    .dataframe tbody tr th:only-of-type {\n",
       "        vertical-align: middle;\n",
       "    }\n",
       "\n",
       "    .dataframe tbody tr th {\n",
       "        vertical-align: top;\n",
       "    }\n",
       "\n",
       "    .dataframe thead th {\n",
       "        text-align: right;\n",
       "    }\n",
       "</style>\n",
       "<table border=\"1\" class=\"dataframe\">\n",
       "  <thead>\n",
       "    <tr style=\"text-align: right;\">\n",
       "      <th></th>\n",
       "      <th>Unnamed: 0</th>\n",
       "      <th>title</th>\n",
       "      <th>overview</th>\n",
       "      <th>original_language</th>\n",
       "      <th>vote_count</th>\n",
       "      <th>vote_average</th>\n",
       "    </tr>\n",
       "  </thead>\n",
       "  <tbody>\n",
       "    <tr>\n",
       "      <th>0</th>\n",
       "      <td>0</td>\n",
       "      <td>Ad Astra</td>\n",
       "      <td>The near future, a time when both hope and har...</td>\n",
       "      <td>en</td>\n",
       "      <td>2853</td>\n",
       "      <td>5.9</td>\n",
       "    </tr>\n",
       "    <tr>\n",
       "      <th>1</th>\n",
       "      <td>1</td>\n",
       "      <td>Bloodshot</td>\n",
       "      <td>After he and his wife are murdered, marine Ray...</td>\n",
       "      <td>en</td>\n",
       "      <td>1349</td>\n",
       "      <td>7.2</td>\n",
       "    </tr>\n",
       "    <tr>\n",
       "      <th>2</th>\n",
       "      <td>2</td>\n",
       "      <td>Bad Boys for Life</td>\n",
       "      <td>Marcus and Mike are forced to confront new thr...</td>\n",
       "      <td>en</td>\n",
       "      <td>2530</td>\n",
       "      <td>7.1</td>\n",
       "    </tr>\n",
       "    <tr>\n",
       "      <th>3</th>\n",
       "      <td>3</td>\n",
       "      <td>Ant-Man</td>\n",
       "      <td>Armed with the astonishing ability to shrink i...</td>\n",
       "      <td>en</td>\n",
       "      <td>13611</td>\n",
       "      <td>7.1</td>\n",
       "    </tr>\n",
       "    <tr>\n",
       "      <th>4</th>\n",
       "      <td>4</td>\n",
       "      <td>Percy Jackson: Sea of Monsters</td>\n",
       "      <td>In their quest to confront the ultimate evil, ...</td>\n",
       "      <td>en</td>\n",
       "      <td>3542</td>\n",
       "      <td>5.9</td>\n",
       "    </tr>\n",
       "  </tbody>\n",
       "</table>\n",
       "</div>"
      ],
      "text/plain": [
       "   Unnamed: 0                           title  \\\n",
       "0           0                        Ad Astra   \n",
       "1           1                       Bloodshot   \n",
       "2           2               Bad Boys for Life   \n",
       "3           3                         Ant-Man   \n",
       "4           4  Percy Jackson: Sea of Monsters   \n",
       "\n",
       "                                            overview original_language  \\\n",
       "0  The near future, a time when both hope and har...                en   \n",
       "1  After he and his wife are murdered, marine Ray...                en   \n",
       "2  Marcus and Mike are forced to confront new thr...                en   \n",
       "3  Armed with the astonishing ability to shrink i...                en   \n",
       "4  In their quest to confront the ultimate evil, ...                en   \n",
       "\n",
       "   vote_count  vote_average  \n",
       "0        2853           5.9  \n",
       "1        1349           7.2  \n",
       "2        2530           7.1  \n",
       "3       13611           7.1  \n",
       "4        3542           5.9  "
      ]
     },
     "execution_count": 3,
     "metadata": {},
     "output_type": "execute_result"
    }
   ],
   "source": [
    "data.head()"
   ]
  },
  {
   "cell_type": "markdown",
   "id": "6b6439a5",
   "metadata": {},
   "source": [
    "## Exploratory Data Analysis"
   ]
  },
  {
   "cell_type": "code",
   "execution_count": 4,
   "id": "1ecc4280",
   "metadata": {},
   "outputs": [
    {
     "data": {
      "text/html": [
       "<div>\n",
       "<style scoped>\n",
       "    .dataframe tbody tr th:only-of-type {\n",
       "        vertical-align: middle;\n",
       "    }\n",
       "\n",
       "    .dataframe tbody tr th {\n",
       "        vertical-align: top;\n",
       "    }\n",
       "\n",
       "    .dataframe thead th {\n",
       "        text-align: right;\n",
       "    }\n",
       "</style>\n",
       "<table border=\"1\" class=\"dataframe\">\n",
       "  <thead>\n",
       "    <tr style=\"text-align: right;\">\n",
       "      <th></th>\n",
       "      <th>Unnamed: 0</th>\n",
       "      <th>title</th>\n",
       "      <th>overview</th>\n",
       "      <th>original_language</th>\n",
       "      <th>vote_count</th>\n",
       "      <th>vote_average</th>\n",
       "    </tr>\n",
       "  </thead>\n",
       "  <tbody>\n",
       "    <tr>\n",
       "      <th>0</th>\n",
       "      <td>False</td>\n",
       "      <td>False</td>\n",
       "      <td>False</td>\n",
       "      <td>False</td>\n",
       "      <td>False</td>\n",
       "      <td>False</td>\n",
       "    </tr>\n",
       "    <tr>\n",
       "      <th>1</th>\n",
       "      <td>False</td>\n",
       "      <td>False</td>\n",
       "      <td>False</td>\n",
       "      <td>False</td>\n",
       "      <td>False</td>\n",
       "      <td>False</td>\n",
       "    </tr>\n",
       "    <tr>\n",
       "      <th>2</th>\n",
       "      <td>False</td>\n",
       "      <td>False</td>\n",
       "      <td>False</td>\n",
       "      <td>False</td>\n",
       "      <td>False</td>\n",
       "      <td>False</td>\n",
       "    </tr>\n",
       "    <tr>\n",
       "      <th>3</th>\n",
       "      <td>False</td>\n",
       "      <td>False</td>\n",
       "      <td>False</td>\n",
       "      <td>False</td>\n",
       "      <td>False</td>\n",
       "      <td>False</td>\n",
       "    </tr>\n",
       "    <tr>\n",
       "      <th>4</th>\n",
       "      <td>False</td>\n",
       "      <td>False</td>\n",
       "      <td>False</td>\n",
       "      <td>False</td>\n",
       "      <td>False</td>\n",
       "      <td>False</td>\n",
       "    </tr>\n",
       "    <tr>\n",
       "      <th>...</th>\n",
       "      <td>...</td>\n",
       "      <td>...</td>\n",
       "      <td>...</td>\n",
       "      <td>...</td>\n",
       "      <td>...</td>\n",
       "      <td>...</td>\n",
       "    </tr>\n",
       "    <tr>\n",
       "      <th>9995</th>\n",
       "      <td>False</td>\n",
       "      <td>False</td>\n",
       "      <td>False</td>\n",
       "      <td>False</td>\n",
       "      <td>False</td>\n",
       "      <td>False</td>\n",
       "    </tr>\n",
       "    <tr>\n",
       "      <th>9996</th>\n",
       "      <td>False</td>\n",
       "      <td>False</td>\n",
       "      <td>False</td>\n",
       "      <td>False</td>\n",
       "      <td>False</td>\n",
       "      <td>False</td>\n",
       "    </tr>\n",
       "    <tr>\n",
       "      <th>9997</th>\n",
       "      <td>False</td>\n",
       "      <td>False</td>\n",
       "      <td>False</td>\n",
       "      <td>False</td>\n",
       "      <td>False</td>\n",
       "      <td>False</td>\n",
       "    </tr>\n",
       "    <tr>\n",
       "      <th>9998</th>\n",
       "      <td>False</td>\n",
       "      <td>False</td>\n",
       "      <td>False</td>\n",
       "      <td>False</td>\n",
       "      <td>False</td>\n",
       "      <td>False</td>\n",
       "    </tr>\n",
       "    <tr>\n",
       "      <th>9999</th>\n",
       "      <td>False</td>\n",
       "      <td>False</td>\n",
       "      <td>False</td>\n",
       "      <td>False</td>\n",
       "      <td>False</td>\n",
       "      <td>False</td>\n",
       "    </tr>\n",
       "  </tbody>\n",
       "</table>\n",
       "<p>10000 rows × 6 columns</p>\n",
       "</div>"
      ],
      "text/plain": [
       "      Unnamed: 0  title  overview  original_language  vote_count  vote_average\n",
       "0          False  False     False              False       False         False\n",
       "1          False  False     False              False       False         False\n",
       "2          False  False     False              False       False         False\n",
       "3          False  False     False              False       False         False\n",
       "4          False  False     False              False       False         False\n",
       "...          ...    ...       ...                ...         ...           ...\n",
       "9995       False  False     False              False       False         False\n",
       "9996       False  False     False              False       False         False\n",
       "9997       False  False     False              False       False         False\n",
       "9998       False  False     False              False       False         False\n",
       "9999       False  False     False              False       False         False\n",
       "\n",
       "[10000 rows x 6 columns]"
      ]
     },
     "execution_count": 4,
     "metadata": {},
     "output_type": "execute_result"
    }
   ],
   "source": [
    "# Checking the dataset for Null values\n",
    "data.isnull()"
   ]
  },
  {
   "cell_type": "code",
   "execution_count": 5,
   "id": "20b18827",
   "metadata": {},
   "outputs": [
    {
     "data": {
      "text/plain": [
       "<AxesSubplot:>"
      ]
     },
     "execution_count": 5,
     "metadata": {},
     "output_type": "execute_result"
    },
    {
     "data": {
      "image/png": "[encoded data removed]",
      "text/plain": [
       "<Figure size 432x288 with 2 Axes>"
      ]
     },
     "metadata": {
      "needs_background": "light"
     },
     "output_type": "display_data"
    }
   ],
   "source": [
    "sns.heatmap(data.isnull(),yticklabels=False)"
   ]
  },
  {
   "cell_type": "markdown",
   "id": "f4ebdec6",
   "metadata": {},
   "source": [
    "As we can see in the above heatmap, there are very less Null Values thus we can assume that the dataset does not contain any Null Values and can proceed with the further steps."
   ]
  },
  {
   "cell_type": "code",
   "execution_count": 6,
   "id": "bae1dd1f",
   "metadata": {},
   "outputs": [
    {
     "data": {
      "text/plain": [
       "<AxesSubplot:>"
      ]
     },
     "execution_count": 6,
     "metadata": {},
     "output_type": "execute_result"
    },
    {
     "data": {
      "image/png": "[encoded data removed]",
      "text/plain": [
       "<Figure size 432x288 with 2 Axes>"
      ]
     },
     "metadata": {
      "needs_background": "light"
     },
     "output_type": "display_data"
    }
   ],
   "source": [
    "# Finding correlation between different numerical attributes of the dataset\n",
    "sns.heatmap(data.corr())"
   ]
  },
  {
   "cell_type": "code",
   "execution_count": 7,
   "id": "817e7a4e",
   "metadata": {},
   "outputs": [
    {
     "data": {
      "text/plain": [
       "10.0"
      ]
     },
     "execution_count": 7,
     "metadata": {},
     "output_type": "execute_result"
    }
   ],
   "source": [
    "# Finding the highest rating given to a movie\n",
    "data['vote_average'].max()"
   ]
  },
  {
   "cell_type": "code",
   "execution_count": 8,
   "id": "a4d02ccf",
   "metadata": {},
   "outputs": [
    {
     "data": {
      "text/html": [
       "<div>\n",
       "<style scoped>\n",
       "    .dataframe tbody tr th:only-of-type {\n",
       "        vertical-align: middle;\n",
       "    }\n",
       "\n",
       "    .dataframe tbody tr th {\n",
       "        vertical-align: top;\n",
       "    }\n",
       "\n",
       "    .dataframe thead th {\n",
       "        text-align: right;\n",
       "    }\n",
       "</style>\n",
       "<table border=\"1\" class=\"dataframe\">\n",
       "  <thead>\n",
       "    <tr style=\"text-align: right;\">\n",
       "      <th></th>\n",
       "      <th>Unnamed: 0</th>\n",
       "      <th>title</th>\n",
       "      <th>overview</th>\n",
       "      <th>original_language</th>\n",
       "      <th>vote_count</th>\n",
       "      <th>vote_average</th>\n",
       "    </tr>\n",
       "  </thead>\n",
       "  <tbody>\n",
       "    <tr>\n",
       "      <th>401</th>\n",
       "      <td>401</td>\n",
       "      <td>Mamu (and a Mother Too)</td>\n",
       "      <td>A transgender sex worker in her late 40s along...</td>\n",
       "      <td>tl</td>\n",
       "      <td>1</td>\n",
       "      <td>10.0</td>\n",
       "    </tr>\n",
       "    <tr>\n",
       "      <th>664</th>\n",
       "      <td>664</td>\n",
       "      <td>Four Kids and It</td>\n",
       "      <td>A group of kids on holiday in Cornwall meet a ...</td>\n",
       "      <td>en</td>\n",
       "      <td>1</td>\n",
       "      <td>10.0</td>\n",
       "    </tr>\n",
       "    <tr>\n",
       "      <th>1582</th>\n",
       "      <td>1582</td>\n",
       "      <td>The Water Monster</td>\n",
       "      <td>NaN</td>\n",
       "      <td>zh</td>\n",
       "      <td>1</td>\n",
       "      <td>10.0</td>\n",
       "    </tr>\n",
       "    <tr>\n",
       "      <th>3387</th>\n",
       "      <td>3387</td>\n",
       "      <td>Prostitution</td>\n",
       "      <td>Soo-hyeon and Hye-ji are sitting on a pile of ...</td>\n",
       "      <td>ko</td>\n",
       "      <td>1</td>\n",
       "      <td>10.0</td>\n",
       "    </tr>\n",
       "    <tr>\n",
       "      <th>6278</th>\n",
       "      <td>6278</td>\n",
       "      <td>You're Bacon Me Crazy</td>\n",
       "      <td>Cleo Morelli, an aspiring Portland chef, tries...</td>\n",
       "      <td>en</td>\n",
       "      <td>1</td>\n",
       "      <td>10.0</td>\n",
       "    </tr>\n",
       "    <tr>\n",
       "      <th>9674</th>\n",
       "      <td>9674</td>\n",
       "      <td>Gully</td>\n",
       "      <td>A slightly dystopian vision of LA, we follow t...</td>\n",
       "      <td>en</td>\n",
       "      <td>1</td>\n",
       "      <td>10.0</td>\n",
       "    </tr>\n",
       "  </tbody>\n",
       "</table>\n",
       "</div>"
      ],
      "text/plain": [
       "      Unnamed: 0                    title  \\\n",
       "401          401  Mamu (and a Mother Too)   \n",
       "664          664         Four Kids and It   \n",
       "1582        1582        The Water Monster   \n",
       "3387        3387             Prostitution   \n",
       "6278        6278    You're Bacon Me Crazy   \n",
       "9674        9674                    Gully   \n",
       "\n",
       "                                               overview original_language  \\\n",
       "401   A transgender sex worker in her late 40s along...                tl   \n",
       "664   A group of kids on holiday in Cornwall meet a ...                en   \n",
       "1582                                                NaN                zh   \n",
       "3387  Soo-hyeon and Hye-ji are sitting on a pile of ...                ko   \n",
       "6278  Cleo Morelli, an aspiring Portland chef, tries...                en   \n",
       "9674  A slightly dystopian vision of LA, we follow t...                en   \n",
       "\n",
       "      vote_count  vote_average  \n",
       "401            1          10.0  \n",
       "664            1          10.0  \n",
       "1582           1          10.0  \n",
       "3387           1          10.0  \n",
       "6278           1          10.0  \n",
       "9674           1          10.0  "
      ]
     },
     "execution_count": 8,
     "metadata": {},
     "output_type": "execute_result"
    }
   ],
   "source": [
    "# Displaying the list of the movies with the highest rating\n",
    "data[data['vote_average']==10.0]"
   ]
  },
  {
   "cell_type": "code",
   "execution_count": 9,
   "id": "46940297",
   "metadata": {},
   "outputs": [
    {
     "data": {
      "text/plain": [
       "0.0"
      ]
     },
     "execution_count": 9,
     "metadata": {},
     "output_type": "execute_result"
    }
   ],
   "source": [
    "# Finding the lowest rating given to a movie \n",
    "data['vote_average'].min()"
   ]
  },
  {
   "cell_type": "code",
   "execution_count": 10,
   "id": "c98ec87d",
   "metadata": {},
   "outputs": [
    {
     "data": {
      "text/html": [
       "<div>\n",
       "<style scoped>\n",
       "    .dataframe tbody tr th:only-of-type {\n",
       "        vertical-align: middle;\n",
       "    }\n",
       "\n",
       "    .dataframe tbody tr th {\n",
       "        vertical-align: top;\n",
       "    }\n",
       "\n",
       "    .dataframe thead th {\n",
       "        text-align: right;\n",
       "    }\n",
       "</style>\n",
       "<table border=\"1\" class=\"dataframe\">\n",
       "  <thead>\n",
       "    <tr style=\"text-align: right;\">\n",
       "      <th></th>\n",
       "      <th>Unnamed: 0</th>\n",
       "      <th>title</th>\n",
       "      <th>overview</th>\n",
       "      <th>original_language</th>\n",
       "      <th>vote_count</th>\n",
       "      <th>vote_average</th>\n",
       "    </tr>\n",
       "  </thead>\n",
       "  <tbody>\n",
       "    <tr>\n",
       "      <th>89</th>\n",
       "      <td>89</td>\n",
       "      <td>Cannibal Hookers</td>\n",
       "      <td>Kirsten escaped a religious cult but is still ...</td>\n",
       "      <td>en</td>\n",
       "      <td>0</td>\n",
       "      <td>0.0</td>\n",
       "    </tr>\n",
       "    <tr>\n",
       "      <th>135</th>\n",
       "      <td>135</td>\n",
       "      <td>Gold Dust</td>\n",
       "      <td>Along the Mexico border, two friends search fo...</td>\n",
       "      <td>en</td>\n",
       "      <td>0</td>\n",
       "      <td>0.0</td>\n",
       "    </tr>\n",
       "    <tr>\n",
       "      <th>302</th>\n",
       "      <td>302</td>\n",
       "      <td>The Final Scream</td>\n",
       "      <td>Aspiring actress, Kia Anderson, is about to le...</td>\n",
       "      <td>en</td>\n",
       "      <td>0</td>\n",
       "      <td>0.0</td>\n",
       "    </tr>\n",
       "    <tr>\n",
       "      <th>328</th>\n",
       "      <td>328</td>\n",
       "      <td>Battle Royale</td>\n",
       "      <td>Remake of the japanese original 2000 movie dir...</td>\n",
       "      <td>en</td>\n",
       "      <td>0</td>\n",
       "      <td>0.0</td>\n",
       "    </tr>\n",
       "    <tr>\n",
       "      <th>334</th>\n",
       "      <td>334</td>\n",
       "      <td>Camp Cold Brook</td>\n",
       "      <td>Strange events plague crew members of a realit...</td>\n",
       "      <td>en</td>\n",
       "      <td>0</td>\n",
       "      <td>0.0</td>\n",
       "    </tr>\n",
       "    <tr>\n",
       "      <th>...</th>\n",
       "      <td>...</td>\n",
       "      <td>...</td>\n",
       "      <td>...</td>\n",
       "      <td>...</td>\n",
       "      <td>...</td>\n",
       "      <td>...</td>\n",
       "    </tr>\n",
       "    <tr>\n",
       "      <th>9841</th>\n",
       "      <td>9841</td>\n",
       "      <td>Skate God</td>\n",
       "      <td>Oren, a skateboarder in dystopian future, disc...</td>\n",
       "      <td>en</td>\n",
       "      <td>0</td>\n",
       "      <td>0.0</td>\n",
       "    </tr>\n",
       "    <tr>\n",
       "      <th>9886</th>\n",
       "      <td>9886</td>\n",
       "      <td>Altar Rock</td>\n",
       "      <td>A thriller inspired by the Boston Marathon bom...</td>\n",
       "      <td>en</td>\n",
       "      <td>0</td>\n",
       "      <td>0.0</td>\n",
       "    </tr>\n",
       "    <tr>\n",
       "      <th>9959</th>\n",
       "      <td>9959</td>\n",
       "      <td>Love and Run</td>\n",
       "      <td>The journey of a young pianist Lisa who lost h...</td>\n",
       "      <td>en</td>\n",
       "      <td>0</td>\n",
       "      <td>0.0</td>\n",
       "    </tr>\n",
       "    <tr>\n",
       "      <th>9966</th>\n",
       "      <td>9966</td>\n",
       "      <td>Legally Blonde 3</td>\n",
       "      <td>The sequel to the two famous Legally Blonde mo...</td>\n",
       "      <td>en</td>\n",
       "      <td>0</td>\n",
       "      <td>0.0</td>\n",
       "    </tr>\n",
       "    <tr>\n",
       "      <th>9982</th>\n",
       "      <td>9982</td>\n",
       "      <td>Bliss Point</td>\n",
       "      <td>Two boys row silently through a Dutch water la...</td>\n",
       "      <td>nl</td>\n",
       "      <td>0</td>\n",
       "      <td>0.0</td>\n",
       "    </tr>\n",
       "  </tbody>\n",
       "</table>\n",
       "<p>243 rows × 6 columns</p>\n",
       "</div>"
      ],
      "text/plain": [
       "      Unnamed: 0             title  \\\n",
       "89            89  Cannibal Hookers   \n",
       "135          135         Gold Dust   \n",
       "302          302  The Final Scream   \n",
       "328          328     Battle Royale   \n",
       "334          334   Camp Cold Brook   \n",
       "...          ...               ...   \n",
       "9841        9841         Skate God   \n",
       "9886        9886        Altar Rock   \n",
       "9959        9959      Love and Run   \n",
       "9966        9966  Legally Blonde 3   \n",
       "9982        9982       Bliss Point   \n",
       "\n",
       "                                               overview original_language  \\\n",
       "89    Kirsten escaped a religious cult but is still ...                en   \n",
       "135   Along the Mexico border, two friends search fo...                en   \n",
       "302   Aspiring actress, Kia Anderson, is about to le...                en   \n",
       "328   Remake of the japanese original 2000 movie dir...                en   \n",
       "334   Strange events plague crew members of a realit...                en   \n",
       "...                                                 ...               ...   \n",
       "9841  Oren, a skateboarder in dystopian future, disc...                en   \n",
       "9886  A thriller inspired by the Boston Marathon bom...                en   \n",
       "9959  The journey of a young pianist Lisa who lost h...                en   \n",
       "9966  The sequel to the two famous Legally Blonde mo...                en   \n",
       "9982  Two boys row silently through a Dutch water la...                nl   \n",
       "\n",
       "      vote_count  vote_average  \n",
       "89             0           0.0  \n",
       "135            0           0.0  \n",
       "302            0           0.0  \n",
       "328            0           0.0  \n",
       "334            0           0.0  \n",
       "...          ...           ...  \n",
       "9841           0           0.0  \n",
       "9886           0           0.0  \n",
       "9959           0           0.0  \n",
       "9966           0           0.0  \n",
       "9982           0           0.0  \n",
       "\n",
       "[243 rows x 6 columns]"
      ]
     },
     "execution_count": 10,
     "metadata": {},
     "output_type": "execute_result"
    }
   ],
   "source": [
    "# Displaying the list of movies with the lowest ratings\n",
    "data[data['vote_average']==0.0]"
   ]
  },
  {
   "cell_type": "code",
   "execution_count": 14,
   "id": "38a6b5f3",
   "metadata": {},
   "outputs": [
    {
     "data": {
      "text/plain": [
       "<AxesSubplot:xlabel='Vote_Average', ylabel='No. of Movies'>"
      ]
     },
     "execution_count": 14,
     "metadata": {},
     "output_type": "execute_result"
    },
    {
     "data": {
      "image/png": "[encoded data removed]",
      "text/plain": [
       "<Figure size 1080x432 with 1 Axes>"
      ]
     },
     "metadata": {
      "needs_background": "light"
     },
     "output_type": "display_data"
    }
   ],
   "source": [
    "# Displaying the no. of movies with different ratings using bar graph\n",
    "data['vote_average'].value_counts().plot.bar(figsize=(15,6),xlabel='Vote_Average',ylabel='No. of Movies')"
   ]
  },
  {
   "cell_type": "markdown",
   "id": "5db40e63",
   "metadata": {},
   "source": [
    "#### As we can see from the above graph, the maximum number of movies are having 6.4 as the their average rating. So, we can say that the majority of the movies in the dataset are having above average rating. Also, from the graph, we can see that there are very less films having rating in the range 8-10. Thus, there are few movies been made which are considered to be the high quality OR great movies as per audience."
   ]
  },
  {
   "cell_type": "code",
   "execution_count": 16,
   "id": "0aae985d",
   "metadata": {
    "scrolled": false
   },
   "outputs": [
    {
     "data": {
      "text/plain": [
       "<AxesSubplot:ylabel='original_language'>"
      ]
     },
     "execution_count": 16,
     "metadata": {},
     "output_type": "execute_result"
    },
    {
     "data": {
      "image/png": "[encoded data removed]",
      "text/plain": [
       "<Figure size 576x576 with 1 Axes>"
      ]
     },
     "metadata": {},
     "output_type": "display_data"
    }
   ],
   "source": [
    "# Displaying the number of movies in the different languages\n",
    "data['original_language'].value_counts().head(10).plot.pie(figsize=(8,8))"
   ]
  },
  {
   "cell_type": "markdown",
   "id": "7d9d11f3",
   "metadata": {},
   "source": [
    "As it is visible from the pie chart above, the maximum number of movies were made in English language due to the prominence of the language around the globe. French takes the second place as the most popular language in movies."
   ]
  },
  {
   "cell_type": "code",
   "execution_count": null,
   "id": "e0bfe566",
   "metadata": {},
   "outputs": [],
   "source": []
  }
 ],
 "metadata": {
  "kernelspec": {
   "display_name": "Python 3",
   "language": "python",
   "name": "python3"
  },
  "language_info": {
   "codemirror_mode": {
    "name": "ipython",
    "version": 3
   },
   "file_extension": ".py",
   "mimetype": "text/x-python",
   "name": "python",
   "nbconvert_exporter": "python",
   "pygments_lexer": "ipython3",
   "version": "3.8.8"
  }
 },
 "nbformat": 4,
 "nbformat_minor": 5
}
